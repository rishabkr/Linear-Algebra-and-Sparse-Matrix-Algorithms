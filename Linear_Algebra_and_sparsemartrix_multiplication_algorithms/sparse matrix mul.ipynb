{
 "cells": [
  {
   "cell_type": "code",
   "execution_count": 1,
   "metadata": {},
   "outputs": [],
   "source": [
    "import numpy as np"
   ]
  },
  {
   "cell_type": "code",
   "execution_count": null,
   "metadata": {},
   "outputs": [],
   "source": []
  },
  {
   "cell_type": "code",
   "execution_count": 19,
   "metadata": {},
   "outputs": [],
   "source": [
    "def get_coo_represetation(matA):\n",
    "    coo=[]\n",
    "    alen=len(matA)\n",
    "    acolen=len(matA[0])\n",
    "    for i in range(alen):\n",
    "        for j in range(acolen):\n",
    "            lst=[]\n",
    "            if(matA[i][j]!=0):\n",
    "                lst.append(i)\n",
    "                lst.append(j)\n",
    "                lst.append(matA[i][j])\n",
    "                coo.append(lst)\n",
    "    return coo"
   ]
  },
  {
   "cell_type": "code",
   "execution_count": 7,
   "metadata": {},
   "outputs": [],
   "source": [
    "def get_csr_representation(matA):\n",
    "    rows_index=[]\n",
    "    columns=[]\n",
    "    elements=[]\n",
    "    row_len=len(matA)\n",
    "    col_len=len(matA[0])\n",
    "    for i in range(row_len):\n",
    "        rows_index.append(len(columns))\n",
    "        for j in range(col_len):\n",
    "            if(matA[i][j]!=0):\n",
    "                columns.append(j)\n",
    "                elements.append(matA[i][j])\n",
    "    rows_index.append(len(columns))\n",
    "    return rows_index,columns,elements"
   ]
  },
  {
   "cell_type": "code",
   "execution_count": null,
   "metadata": {},
   "outputs": [],
   "source": []
  },
  {
   "cell_type": "code",
   "execution_count": 16,
   "metadata": {},
   "outputs": [],
   "source": [
    "def sparse_matrix_multiplication_sparsecoo(cooA,matB):\n",
    "    n_rows=len(matB)\n",
    "    n_cols=len(matB[0])\n",
    "    C=[]\n",
    "    flop_count=0\n",
    "    for index in range(n_cols):\n",
    "        col=[0]*n_rows\n",
    "        for row in range(len(cooA)):\n",
    "            i=cooA[row][0]\n",
    "            j=cooA[row][1]\n",
    "            element=cooA[row][2]\n",
    "            flop_count+=2\n",
    "            col[i]+=element*matB[j][index]\n",
    "        for r in range(n_rows):\n",
    "            if(col[r]!=0):\n",
    "                lst=[]\n",
    "                lst.append(r)\n",
    "                lst.append(index)\n",
    "                lst.append(col[r])\n",
    "                C.append(lst)\n",
    "    return  C,flop_count"
   ]
  },
  {
   "cell_type": "code",
   "execution_count": 17,
   "metadata": {},
   "outputs": [],
   "source": [
    "def sparsecsrmultiplication(matA,matB):\n",
    "    rows,columns,elements=matA\n",
    "    rows_count=len(matB)\n",
    "    col_count=len(matB[0])\n",
    "    C = [[0 for _ in range(col_count)] for _ in range(rows_count)]\n",
    "    flop_count=0\n",
    "    for col in range(col_count):\n",
    "        for row in range(rows_count):\n",
    "            for j in range(rows[row],rows[row+1]):\n",
    "                flop_count+=2\n",
    "                C[row][col]+=elements[j]*matB[columns[j]][col]\n",
    "    return C,flop_count"
   ]
  },
  {
   "cell_type": "code",
   "execution_count": 26,
   "metadata": {},
   "outputs": [
    {
     "name": "stdout",
     "output_type": "stream",
     "text": [
      "[[0, 2, 4], [1, 0, 5], [1, 1, 6], [2, 1, 1]]\n",
      "([[0, 0, 24], [1, 0, 18], [2, 0, 3], [1, 1, 38], [2, 1, 3]], 16)\n",
      "([0, 1, 3, 4], [2, 0, 1, 1], [4, 5, 6, 1])\n",
      "([[24, 0], [18, 38], [3, 3]], 16)\n"
     ]
    }
   ],
   "source": [
    "matA=[[0,0,4],[5,6,0],[0,1,0]]\n",
    "matB=[[0,4],[3,3],[6,0]]\n",
    "Acoo=get_coo_represetation(matA)\n",
    "#print(Acoo)\n",
    "print(sparse_matrix_multiplication_sparsecoo(Acoo, matB))\n",
    "A_csr = get_csr_representation(matA)\n",
    "#print(A_csr)\n",
    "print(sparsecsrmultiplication(A_csr, matB))"
   ]
  }
 ],
 "metadata": {
  "kernelspec": {
   "display_name": "Python 3",
   "language": "python",
   "name": "python3"
  },
  "language_info": {
   "codemirror_mode": {
    "name": "ipython",
    "version": 3
   },
   "file_extension": ".py",
   "mimetype": "text/x-python",
   "name": "python",
   "nbconvert_exporter": "python",
   "pygments_lexer": "ipython3",
   "version": "3.7.4"
  }
 },
 "nbformat": 4,
 "nbformat_minor": 2
}
