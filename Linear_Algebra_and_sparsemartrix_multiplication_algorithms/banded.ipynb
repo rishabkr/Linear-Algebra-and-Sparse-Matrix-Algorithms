{
 "cells": [
  {
   "cell_type": "code",
   "execution_count": 70,
   "metadata": {},
   "outputs": [],
   "source": [
    "import numpy as np"
   ]
  },
  {
   "cell_type": "code",
   "execution_count": 31,
   "metadata": {},
   "outputs": [],
   "source": [
    "def get_bandwidth(matA):\n",
    "    rows,columns=matA.shape\n",
    "    upperband=0\n",
    "    for j in range(columns-1,-1,-1):\n",
    "        zero_present=True\n",
    "        for i in range(rows):\n",
    "            if(i+j==columns):\n",
    "                break\n",
    "            elif(matA[i][i+j]!=0):\n",
    "                zero_present=False\n",
    "                break\n",
    "        if(not zero_present):\n",
    "            upperband=j\n",
    "            break\n",
    "    lowerband=0\n",
    "    for i in range(rows-1,-1,-1):\n",
    "        zero_present=True\n",
    "        for j in range(columns):\n",
    "            if(i+j==rows):\n",
    "                break\n",
    "            elif(matA[i+j][j]!=0):\n",
    "                zero_present=False\n",
    "                break\n",
    "        if(not zero_present):\n",
    "            lowerband=i\n",
    "            break\n",
    "    return upperband,lowerband\n"
   ]
  },
  {
   "cell_type": "code",
   "execution_count": 20,
   "metadata": {},
   "outputs": [],
   "source": [
    "def convert_to_banded(matA,upper_band,lower_band):\n",
    "        rows,columns=matA.shape\n",
    "        mat=np.zeros((upper_band+lower_band+1,columns),dtype=int)\n",
    "        for i in range(columns):\n",
    "            start=max(0,i-upper_band-1)\n",
    "            stop=min(rows-1,i+lower_band)\n",
    "            for j in range(start,stop+1):\n",
    "                mat[upper_band+j-i][i]=matA[j][i]\n",
    "        return mat"
   ]
  },
  {
   "cell_type": "code",
   "execution_count": 59,
   "metadata": {},
   "outputs": [],
   "source": [
    "def get_value(mat,i,j,upper_band):\n",
    "    a=upper_band+i-j\n",
    "    if(a<mat.shape[0] and a>=0):\n",
    "        return mat[a][j]\n",
    "    else:\n",
    "        return 0"
   ]
  },
  {
   "cell_type": "code",
   "execution_count": 60,
   "metadata": {},
   "outputs": [],
   "source": [
    "def multiply_banded(ra,ca,rb,cb,matA,matB,upper_band_a,lower_band_a,upper_band_b,lower_band_b):\n",
    "    if(ca!=rb):\n",
    "        return -1,-1\n",
    "    result=np.zeros((ra,cb),dtype=int)\n",
    "    flop_count=0\n",
    "    for i in range(ra):\n",
    "        for j in range(cb):\n",
    "            start=max(max(0,i-lower_band_a),max(0,j-upper_band_b))\n",
    "            stop=min(min(i+upper_band_a+1,ca),min(j+lower_band_b+1,ca))\n",
    "            for k in range(start,stop):\n",
    "                flop_count+=2\n",
    "                result[i][j]+=get_value(matA,i,k,upper_band_a)*get_value(matB,k,j,upper_band_b)\n",
    "    return result,flop_count"
   ]
  },
  {
   "cell_type": "code",
   "execution_count": 71,
   "metadata": {},
   "outputs": [
    {
     "name": "stdout",
     "output_type": "stream",
     "text": [
      "[[ -9 -11  -8   0   0]\n",
      " [ -7 -10   1  27   0]\n",
      " [ 15  21 -12 -13 -41]\n",
      " [  0  -1  21  52  69]\n",
      " [  0   0  84  88 185]]\n"
     ]
    }
   ],
   "source": [
    "matA=np.array([[1,-2,0,0,0],[-2,-1,3,0,0],[0,3,0,-1,0],[0,0,-1,1,4],[0,0,0,4,3]])\n",
    "matB=np.array([[1,3,-2,0,0],[5,7,3,0,0],[0,1,0,9,0],[0,0,21,13,41],[0,0,0,12,7]])\n",
    "upper_band_a,lower_band_a=get_bandwidth(matA)\n",
    "banded_a=convert_to_banded(matA,upper_band_a,lower_band_a)\n",
    "\n",
    "upper_band_b,lower_band_b=get_bandwidth(matB)\n",
    "banded_b=convert_to_banded(matB,upper_band_b,lower_band_b)\n",
    "#print(matB)\n",
    "#print(\"-------\")\n",
    "#print(banded_b)\n",
    "result,flop_count=multiply_banded(matA.shape[0],matA.shape[1],matB.shape[0],matB.shape[1],banded_a,banded_b,upper_band_a,lower_band_a,upper_band_b,lower_band_b)\n",
    "print(result)"
   ]
  }
 ],
 "metadata": {
  "kernelspec": {
   "display_name": "Python 3",
   "language": "python",
   "name": "python3"
  },
  "language_info": {
   "codemirror_mode": {
    "name": "ipython",
    "version": 3
   },
   "file_extension": ".py",
   "mimetype": "text/x-python",
   "name": "python",
   "nbconvert_exporter": "python",
   "pygments_lexer": "ipython3",
   "version": "3.7.4"
  }
 },
 "nbformat": 4,
 "nbformat_minor": 2
}
