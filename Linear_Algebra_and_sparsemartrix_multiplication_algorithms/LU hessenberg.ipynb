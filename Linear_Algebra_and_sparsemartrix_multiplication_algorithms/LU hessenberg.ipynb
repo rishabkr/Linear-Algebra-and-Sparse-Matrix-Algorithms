{
 "cells": [
  {
   "cell_type": "code",
   "execution_count": 33,
   "metadata": {},
   "outputs": [],
   "source": [
    "import numpy as np\n",
    "import scipy.linalg as sp"
   ]
  },
  {
   "cell_type": "code",
   "execution_count": 52,
   "metadata": {},
   "outputs": [],
   "source": [
    "def solveaxb(A,b):\n",
    "    L=U=vec_factorize(A)\n",
    "    x=solve_lub(L,U,b)\n",
    "    return np.array(x).astype('float')"
   ]
  },
  {
   "cell_type": "code",
   "execution_count": 51,
   "metadata": {},
   "outputs": [],
   "source": [
    "def solve_lub(L,U,b):\n",
    "    y=forward_substitution(L,b)\n",
    "    x=backward_substitution(U,y)\n",
    "    return np.array(x).astype('float')"
   ]
  },
  {
   "cell_type": "code",
   "execution_count": 50,
   "metadata": {},
   "outputs": [],
   "source": [
    "def factorize(A):\n",
    "    n=len(A)\n",
    "    for k in range(0,n):\n",
    "        A[k+1:n,k]=A[k+1:n,k]/A[k,k]\n",
    "        for i in range(k+1,n):\n",
    "            for j in range(k+1,n):\n",
    "                A[i,j]=A[i,j]-A[i,k]*A[k,j]\n",
    "    return A"
   ]
  },
  {
   "cell_type": "code",
   "execution_count": 49,
   "metadata": {},
   "outputs": [],
   "source": [
    "def vec_factorize(A):\n",
    "    n=len(A)\n",
    "    for k in range(0,n):\n",
    "        A[k+1:n,k]=A[k+1:n,k]/A[k,k]\n",
    "        for i in range(k+1,n):\n",
    "            A[i,k+1:n]=A[i,k+1:n]-A[i,k]*A[k,k+1:n]       \n",
    "    return A"
   ]
  },
  {
   "cell_type": "code",
   "execution_count": 55,
   "metadata": {},
   "outputs": [],
   "source": [
    "def backward_substitution(U,y):\n",
    "    y_len=len(y)\n",
    "    x=[0]*y_len\n",
    "    x[y_len-1]=y[y_len-1]/U[y_len-1,y_len-1]\n",
    "    for i in range(y_len-1,-1,-1):\n",
    "        sumx=y[i]\n",
    "        for j in range(i+1,y_len):\n",
    "            sumx=sumx-U[i,j]*x[j]\n",
    "        x[i]=sumx/U[i,i]    \n",
    "    return np.array(x).astype('float')"
   ]
  },
  {
   "cell_type": "code",
   "execution_count": 40,
   "metadata": {},
   "outputs": [],
   "source": [
    "def forward_substitution(L,b):\n",
    "    y=[]\n",
    "    b_len=len(b)\n",
    "    for i in range(b_len):\n",
    "        y.append(b[i])\n",
    "    for i in range(b_len):\n",
    "        temp=b[i]\n",
    "        if(i>0):\n",
    "            temp=temp-L[i,i-1]*y[i-1]\n",
    "        y[i]=temp\n",
    "    return y"
   ]
  },
  {
   "cell_type": "code",
   "execution_count": 62,
   "metadata": {},
   "outputs": [
    {
     "name": "stdout",
     "output_type": "stream",
     "text": [
      "Error: 8.987843392432617e-14\n"
     ]
    }
   ],
   "source": [
    "A=np.array([[2, 4, 2], [342, 312, -211], [0, 115, 213]]).astype('float')\n",
    "b=np.array([1, 6 ,4]).astype('float')\n",
    "newA=A.copy()\n",
    "calA=A.copy()\n",
    "x=solveaxb(calA,b)\n",
    "error = np.linalg.norm(b - np.dot(newA,x.reshape(len(x),1)).flatten())\n",
    "print(\"Error: {0}\".format(error))"
   ]
  }
 ],
 "metadata": {
  "kernelspec": {
   "display_name": "Python 3",
   "language": "python",
   "name": "python3"
  },
  "language_info": {
   "codemirror_mode": {
    "name": "ipython",
    "version": 3
   },
   "file_extension": ".py",
   "mimetype": "text/x-python",
   "name": "python",
   "nbconvert_exporter": "python",
   "pygments_lexer": "ipython3",
   "version": "3.7.4"
  }
 },
 "nbformat": 4,
 "nbformat_minor": 2
}
