{
 "cells": [
  {
   "cell_type": "code",
   "execution_count": 1,
   "metadata": {},
   "outputs": [],
   "source": [
    "import numpy as np\n",
    "import scipy.linalg as sp"
   ]
  },
  {
   "cell_type": "code",
   "execution_count": null,
   "metadata": {},
   "outputs": [],
   "source": []
  },
  {
   "cell_type": "code",
   "execution_count": null,
   "metadata": {},
   "outputs": [],
   "source": []
  },
  {
   "cell_type": "code",
   "execution_count": 9,
   "metadata": {},
   "outputs": [
    {
     "name": "stdout",
     "output_type": "stream",
     "text": [
      "[[  1.   1.   1.   1.   1.]\n",
      " [  1.   0.   1.   1.   2.]\n",
      " [  1.  inf -inf -inf -inf]\n",
      " [  1.  inf  nan  nan  nan]\n",
      " [  1.  inf  nan  nan  nan]]\n",
      "x: [nan, nan, nan, nan, nan]\n",
      "Error: nan\n"
     ]
    },
    {
     "name": "stderr",
     "output_type": "stream",
     "text": [
      "c:\\users\\rishab\\appdata\\local\\programs\\python\\python37\\lib\\site-packages\\ipykernel_launcher.py:4: RuntimeWarning: divide by zero encountered in true_divide\n",
      "  after removing the cwd from sys.path.\n",
      "c:\\users\\rishab\\appdata\\local\\programs\\python\\python37\\lib\\site-packages\\ipykernel_launcher.py:4: RuntimeWarning: invalid value encountered in true_divide\n",
      "  after removing the cwd from sys.path.\n"
     ]
    }
   ],
   "source": [
    "A=np.array([ [1,1,1,1,1], [1,1,2,2,3], [1,2,3,4,5],[1,2,4,5,7],[1,3,5,7,9]]).astype('float')\n",
    "b=np.array([2,5,3,7,9]).astype('float')\n",
    "newA=A.copy()\n",
    "calA=A.copy()\n",
    "x=solveaxb(calA,b)\n",
    "error = np.linalg.norm(b - np.dot(newA,x.reshape(len(x),1)).flatten())\n",
    "print(\"Error: {0}\".format(error))"
   ]
  },
  {
   "cell_type": "code",
   "execution_count": null,
   "metadata": {},
   "outputs": [],
   "source": []
  },
  {
   "cell_type": "code",
   "execution_count": null,
   "metadata": {},
   "outputs": [],
   "source": []
  },
  {
   "cell_type": "code",
   "execution_count": 7,
   "metadata": {},
   "outputs": [],
   "source": [
    "def solveaxb(A,b):\n",
    "    L=U=factorize(A)\n",
    "    print(L)\n",
    "    x=solve_lub(L,U,b)\n",
    "    return np.array(x).astype('float')"
   ]
  },
  {
   "cell_type": "code",
   "execution_count": 8,
   "metadata": {},
   "outputs": [],
   "source": [
    "def solve_lub(L,U,b):\n",
    "    y=forward_substitution(L,b)\n",
    "    x=backward_substitution(U,y)\n",
    "    return np.array(x).astype('float')"
   ]
  },
  {
   "cell_type": "code",
   "execution_count": 3,
   "metadata": {},
   "outputs": [],
   "source": [
    "def factorize(A):\n",
    "    n=len(A)\n",
    "    for k in range(0,n):\n",
    "        A[k+1:n,k]=A[k+1:n,k]/A[k,k]\n",
    "        for i in range(k+1,n):\n",
    "            for j in range(k+1,n):\n",
    "                A[i,j]=A[i,j]-A[i,k]*A[k,j]\n",
    "    return A"
   ]
  },
  {
   "cell_type": "code",
   "execution_count": 4,
   "metadata": {},
   "outputs": [],
   "source": [
    "def vec_factorize(A):\n",
    "    n=len(A)\n",
    "    for k in range(0,n):\n",
    "        A[k+1:n,k]=A[k+1:n,k]/A[k,k]\n",
    "        for i in range(k+1,n):\n",
    "            A[i,k+1:n]=A[i,k+1:n]-A[i,k]*A[k,k+1:n]       \n",
    "    return A"
   ]
  },
  {
   "cell_type": "code",
   "execution_count": 5,
   "metadata": {},
   "outputs": [],
   "source": [
    "def backward_substitution(U,y):\n",
    "    y_len=len(y)\n",
    "    x=[0]*y_len\n",
    "    x[y_len-1]=y[y_len-1]/U[y_len-1,y_len-1]\n",
    "    for i in range(y_len-1,-1,-1):\n",
    "        sumx=y[i]\n",
    "        for j in range(i+1,y_len):\n",
    "            sumx=sumx-U[i,j]*x[j]\n",
    "        x[i]=sumx/U[i,i]\n",
    "    print(\"x:\",x)    \n",
    "    return np.array(x).astype('float')"
   ]
  },
  {
   "cell_type": "code",
   "execution_count": 6,
   "metadata": {},
   "outputs": [],
   "source": [
    "def forward_substitution(L,b):\n",
    "    y=[]\n",
    "    b_len=len(b)\n",
    "    for i in range(b_len):\n",
    "        y.append(b[i])\n",
    "    for i in range(b_len):\n",
    "        temp=b[i]\n",
    "        for j in range(i):\n",
    "            temp=temp-L[i,j]*y[j]\n",
    "        y[i]=temp\n",
    "    #print(\"y\",y)    \n",
    "    return y"
   ]
  }
 ],
 "metadata": {
  "kernelspec": {
   "display_name": "Python 3",
   "language": "python",
   "name": "python3"
  },
  "language_info": {
   "codemirror_mode": {
    "name": "ipython",
    "version": 3
   },
   "file_extension": ".py",
   "mimetype": "text/x-python",
   "name": "python",
   "nbconvert_exporter": "python",
   "pygments_lexer": "ipython3",
   "version": "3.7.4"
  }
 },
 "nbformat": 4,
 "nbformat_minor": 2
}
